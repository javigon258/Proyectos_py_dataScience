{
    "cells": [
        {
            "cell_type": "markdown",
            "metadata": {},
            "source": [
                "# Explore here"
            ]
        },
        {
            "cell_type": "code",
            "execution_count": 1,
            "metadata": {},
            "outputs": [
                {
                    "name": "stdout",
                    "output_type": "stream",
                    "text": [
                        "                  Nombre  Duracion  Popularidad\n",
                        "3               EL TONTO      3.13           67\n",
                        "5  La Niña de la Escuela      3.41           66\n",
                        "7               Casanova      4.06           65\n",
                        "6           SIN AUTOTUNE      2.69           64\n",
                        "8            M.A - Remix      4.55           63\n",
                        "9                  VERDE      2.09           63\n",
                        "2              1000COSAS      3.99           54\n",
                        "0       LA REINA - REMIX      3.42           54\n",
                        "1               LA REINA      2.50           53\n",
                        "4     PERREITO PA LLORAR      3.55           51\n"
                    ]
                },
                {
                    "data": {
                        "image/png": "[encoded data removed]",
                        "text/plain": [
                            "<Figure size 640x480 with 1 Axes>"
                        ]
                    },
                    "metadata": {},
                    "output_type": "display_data"
                }
            ],
            "source": [
                "import os\n",
                "import pandas as pd\n",
                "import seaborn as sns\n",
                "import spotipy\n",
                "from spotipy.oauth2 import SpotifyClientCredentials\n",
                "from dotenv import load_dotenv\n",
                "\n",
                "# load the .env file variables\n",
                "load_dotenv()\n",
                "\n",
                "spotipy.Spotify()\n",
                "client_id = os.environ.get(\"CLIENT_ID\")\n",
                "client_secret = os.environ.get(\"CLIENT_SECRET\")\n",
                "\n",
                "birdy_uri= \"3bvfu2KAve4lPHrhEFDZna\"\n",
                "spotify = spotipy.Spotify(auth_manager = SpotifyClientCredentials(client_id = client_id,\n",
                "                                                              client_secret = client_secret))\n",
                "\n",
                "#results = spotify.artist_albums(birdy_uri, album_type='album')\n",
                "listado = spotify.artist_top_tracks(birdy_uri)\n",
                "canciones = {\"Nombre\":[],\"Duracion\":[],\"Popularidad\":[]}\n",
                "for cancion in listado['tracks'][:10]:\n",
                "    canciones[\"Nombre\"].append(cancion[\"name\"])\n",
                "    canciones[\"Duracion\"].append(round(cancion[\"duration_ms\"]/(1000*60),2))\n",
                "    canciones[\"Popularidad\"].append(cancion[\"popularity\"])\n",
                "\n",
                "#print(canciones)\n",
                "\n",
                "masPopularesDF = pd.DataFrame(canciones)\n",
                "top10 = masPopularesDF.sort_values([\"Popularidad\"], ascending = False)\n",
                "\n",
                "print(top10.head(10))\n",
                "\n",
                "scatter_plot = sns.scatterplot(data = top10, x = \"Popularidad\", y = \"Duracion\")\n",
                "fig = scatter_plot.get_figure()"
            ]
        },
        {
            "cell_type": "markdown",
            "metadata": {},
            "source": [
                "¿Tiene relación la duración con la popularidad? ¿Podríamos decir que una canción que dure poco tiempo puede ser más popular que otra que dure más? Analízalo graficando un scatter plot y argumenta tu respuesta."
            ]
        },
        {
            "cell_type": "markdown",
            "metadata": {},
            "source": [
                "No tiene porque estar relacionado que una cancion cuanto mas dure sea mas popular, la mas popular 3:13 y una popularidad de 67 y otra que dura 2:15 tiene una popualridad de 63."
            ]
        }
    ],
    "metadata": {
        "kernelspec": {
            "display_name": "Python 3",
            "language": "python",
            "name": "python3"
        },
        "language_info": {
            "codemirror_mode": {
                "name": "ipython",
                "version": 3
            },
            "file_extension": ".py",
            "mimetype": "text/x-python",
            "name": "python",
            "nbconvert_exporter": "python",
            "pygments_lexer": "ipython3",
            "version": "3.11.4"
        },
        "orig_nbformat": 4
    },
    "nbformat": 4,
    "nbformat_minor": 2
}
